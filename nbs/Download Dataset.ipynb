{
 "cells": [
  {
   "cell_type": "code",
   "execution_count": 14,
   "id": "7adbaa1a",
   "metadata": {},
   "outputs": [],
   "source": [
    "import pathlib\n",
    "\n",
    "BASE_DIR = pathlib.Path().resolve().parent\n",
    "DATASETS_DIR = BASE_DIR / \"datasets\"\n",
    "ZIPS_DIR = DATASETS_DIR / \"zips\"\n",
    "\n",
    "ZIPS_DIR.mkdir(exist_ok = True, parents = True)\n",
    "\n",
    "SMS_SPAM_ZIP_PATH = ZIPS_DIR / \"sms-spam-dataset.zip\"\n",
    "YOUTUBE_SPAM_ZIP_PATH = ZIPS_DIR / \"youtube_spam_dataset.zip\""
   ]
  },
  {
   "cell_type": "code",
   "execution_count": 9,
   "id": "6533d767",
   "metadata": {},
   "outputs": [],
   "source": [
    "SMS_SPAM_ZIP = \"https://archive.ics.uci.edu/ml/machine-learning-databases/00228/smsspamcollection.zip\"\n",
    "YOUTUBE_SMS_ZIP = \"https://archive.ics.uci.edu/ml/machine-learning-databases/00380/YouTube-Spam-Collection-v1.zip\""
   ]
  },
  {
   "cell_type": "code",
   "execution_count": 10,
   "id": "1bd9e313",
   "metadata": {},
   "outputs": [
    {
     "name": "stderr",
     "output_type": "stream",
     "text": [
      "  % Total    % Received % Xferd  Average Speed   Time    Time     Time  Current\n",
      "                                 Dload  Upload   Total   Spent    Left  Speed\n",
      "\n",
      "  0     0    0     0    0     0      0      0 --:--:-- --:--:-- --:--:--     0\n",
      "  0  198k    0     0    0     0      0      0 --:--:-- --:--:-- --:--:--     0\n",
      " 46  198k   46 95232    0     0  55721      0  0:00:03  0:00:01  0:00:02 55789\n",
      "100  198k  100  198k    0     0  77324      0  0:00:02  0:00:02 --:--:-- 77402\n",
      "  % Total    % Received % Xferd  Average Speed   Time    Time     Time  Current\n",
      "                                 Dload  Upload   Total   Spent    Left  Speed\n",
      "\n",
      "  0     0    0     0    0     0      0      0 --:--:-- --:--:-- --:--:--     0\n",
      "  9  159k    9 15872    0     0  16428      0  0:00:09 --:--:--  0:00:09 16464\n",
      "100  159k  100  159k    0     0   114k      0  0:00:01  0:00:01 --:--:--  114k\n"
     ]
    }
   ],
   "source": [
    "!curl $SMS_SPAM_ZIP -o $SMS_SPAM_ZIP_PATH\n",
    "!curl $YOUTUBE_SMS_ZIP -o $YOUTUBE_SPAM_ZIP_PATH"
   ]
  },
  {
   "cell_type": "code",
   "execution_count": 16,
   "id": "fb33bc10",
   "metadata": {},
   "outputs": [],
   "source": [
    "SPAM_CLASSIFIER_DIR = DATASETS_DIR / \"spam-classifier\"\n",
    "SMS_SPAM_DIR = SPAM_CLASSIFIER_DIR / \"sms-spam\"\n",
    "YOUTUBE_SPAM_DIR = SPAM_CLASSIFIER_DIR / \"youtube-spam\"\n",
    "\n",
    "SMS_SPAM_DIR.mkdir(exist_ok = True, parents = True)\n",
    "YOUTUBE_SPAM_DIR.mkdir(exist_ok = True, parents = True)"
   ]
  },
  {
   "cell_type": "code",
   "execution_count": 17,
   "id": "26046daf",
   "metadata": {},
   "outputs": [
    {
     "name": "stdout",
     "output_type": "stream",
     "text": [
      "Archive:  C:\\Users\\adnaneeee\\Documents\\GitHub\\SpamOrHamAPI\\datasets\\zips\\sms-spam-dataset.zip\n",
      "  inflating: C:\\Users\\adnaneeee\\Documents\\GitHub\\SpamOrHamAPI\\datasets\\spam-classifier\\sms-spam/SMSSpamCollection  \n",
      "  inflating: C:\\Users\\adnaneeee\\Documents\\GitHub\\SpamOrHamAPI\\datasets\\spam-classifier\\sms-spam/readme  \n",
      "Archive:  C:\\Users\\adnaneeee\\Documents\\GitHub\\SpamOrHamAPI\\datasets\\zips\\youtube_spam_dataset.zip\n",
      "  inflating: C:\\Users\\adnaneeee\\Documents\\GitHub\\SpamOrHamAPI\\datasets\\spam-classifier\\youtube-spam/Youtube01-Psy.csv  \n",
      "   creating: C:\\Users\\adnaneeee\\Documents\\GitHub\\SpamOrHamAPI\\datasets\\spam-classifier\\youtube-spam/__MACOSX/\n",
      "  inflating: C:\\Users\\adnaneeee\\Documents\\GitHub\\SpamOrHamAPI\\datasets\\spam-classifier\\youtube-spam/__MACOSX/._Youtube01-Psy.csv  \n",
      "  inflating: C:\\Users\\adnaneeee\\Documents\\GitHub\\SpamOrHamAPI\\datasets\\spam-classifier\\youtube-spam/Youtube02-KatyPerry.csv  \n",
      "  inflating: C:\\Users\\adnaneeee\\Documents\\GitHub\\SpamOrHamAPI\\datasets\\spam-classifier\\youtube-spam/__MACOSX/._Youtube02-KatyPerry.csv  \n",
      "  inflating: C:\\Users\\adnaneeee\\Documents\\GitHub\\SpamOrHamAPI\\datasets\\spam-classifier\\youtube-spam/Youtube03-LMFAO.csv  \n",
      "  inflating: C:\\Users\\adnaneeee\\Documents\\GitHub\\SpamOrHamAPI\\datasets\\spam-classifier\\youtube-spam/__MACOSX/._Youtube03-LMFAO.csv  \n",
      "  inflating: C:\\Users\\adnaneeee\\Documents\\GitHub\\SpamOrHamAPI\\datasets\\spam-classifier\\youtube-spam/Youtube04-Eminem.csv  \n",
      "  inflating: C:\\Users\\adnaneeee\\Documents\\GitHub\\SpamOrHamAPI\\datasets\\spam-classifier\\youtube-spam/__MACOSX/._Youtube04-Eminem.csv  \n",
      "  inflating: C:\\Users\\adnaneeee\\Documents\\GitHub\\SpamOrHamAPI\\datasets\\spam-classifier\\youtube-spam/Youtube05-Shakira.csv  \n",
      "  inflating: C:\\Users\\adnaneeee\\Documents\\GitHub\\SpamOrHamAPI\\datasets\\spam-classifier\\youtube-spam/__MACOSX/._Youtube05-Shakira.csv  \n"
     ]
    }
   ],
   "source": [
    "!unzip -o $SMS_SPAM_ZIP_PATH -d $SMS_SPAM_DIR\n",
    "!unzip -o $YOUTUBE_SPAM_ZIP_PATH -d $YOUTUBE_SPAM_DIR"
   ]
  },
  {
   "cell_type": "code",
   "execution_count": null,
   "id": "8ad83b28",
   "metadata": {},
   "outputs": [],
   "source": []
  }
 ],
 "metadata": {
  "kernelspec": {
   "display_name": "Python 3 (ipykernel)",
   "language": "python",
   "name": "python3"
  },
  "language_info": {
   "codemirror_mode": {
    "name": "ipython",
    "version": 3
   },
   "file_extension": ".py",
   "mimetype": "text/x-python",
   "name": "python",
   "nbconvert_exporter": "python",
   "pygments_lexer": "ipython3",
   "version": "3.10.2"
  }
 },
 "nbformat": 4,
 "nbformat_minor": 5
}
